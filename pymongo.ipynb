{
 "cells": [
  {
   "cell_type": "code",
   "execution_count": 2,
   "id": "ac08914f-5e75-47d9-8219-c526df91c3ac",
   "metadata": {},
   "outputs": [],
   "source": [
    "from pymongo import MongoClient"
   ]
  },
  {
   "cell_type": "code",
   "execution_count": 3,
   "id": "7278e874-75dc-4f8d-99df-bb51ce2f5db3",
   "metadata": {},
   "outputs": [],
   "source": [
    "myclient = MongoClient(host=\"127.0.0.1\", port=27017)"
   ]
  },
  {
   "cell_type": "code",
   "execution_count": 4,
   "id": "cc706b7b-9424-4229-b619-f77311feb905",
   "metadata": {},
   "outputs": [],
   "source": [
    "mydb = myclient[\"kunal\"]"
   ]
  },
  {
   "cell_type": "code",
   "execution_count": 5,
   "id": "339e796b-36d9-44ea-80f2-a7d65503bf39",
   "metadata": {},
   "outputs": [],
   "source": [
    "mycollection = mydb[\"student\"]\n"
   ]
  },
  {
   "cell_type": "code",
   "execution_count": 8,
   "id": "299538a1-d169-4146-83f0-4b23d4bd9fba",
   "metadata": {},
   "outputs": [
    {
     "data": {
      "text/plain": [
       "InsertOneResult(ObjectId('68832c91af840e945b98fcdf'), acknowledged=True)"
      ]
     },
     "execution_count": 8,
     "metadata": {},
     "output_type": "execute_result"
    }
   ],
   "source": [
    "mycollection.insert_one({\n",
    "    \"name\": \"kunal\",\n",
    "    \"phone\": 2222,\n",
    "    \"course\": \"devops\"\n",
    "})"
   ]
  },
  {
   "cell_type": "code",
   "execution_count": null,
   "id": "94fadccf-ee80-4c3a-9da3-ddcf95c0f7ed",
   "metadata": {},
   "outputs": [],
   "source": []
  }
 ],
 "metadata": {
  "kernelspec": {
   "display_name": "Python 3 (ipykernel)",
   "language": "python",
   "name": "python3"
  },
  "language_info": {
   "codemirror_mode": {
    "name": "ipython",
    "version": 3
   },
   "file_extension": ".py",
   "mimetype": "text/x-python",
   "name": "python",
   "nbconvert_exporter": "python",
   "pygments_lexer": "ipython3",
   "version": "3.12.7"
  }
 },
 "nbformat": 4,
 "nbformat_minor": 5
}
